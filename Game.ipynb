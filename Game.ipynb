{
 "cells": [
  {
   "cell_type": "code",
   "execution_count": 28,
   "id": "f760bd08-fd3a-4f20-8370-96e7b7f8fa2a",
   "metadata": {},
   "outputs": [
    {
     "name": "stdin",
     "output_type": "stream",
     "text": [
      "Enter your name:  Elliot\n",
      "Elliot, Enter Rock, Paper, or Scissors:  Rock\n"
     ]
    },
    {
     "name": "stdout",
     "output_type": "stream",
     "text": [
      "Elliot chose: Rock\n",
      "Computer chose: Paper\n",
      "Computer wins!\n"
     ]
    }
   ],
   "source": [
    "import random\n",
    "\n",
    "def play_game():\n",
    "    player_name = input(\"Enter your name: \")\n",
    "    \n",
    "    choices = [\"Rock\", \"Paper\", \"Scissors\"]\n",
    "\n",
    "    while True:\n",
    "        player_choice = input(f\"{player_name}, Enter Rock, Paper, or Scissors: \").capitalize()\n",
    "        if player_choice in choices:\n",
    "            break  \n",
    "        else:\n",
    "            print(\"Invalid choice. Please check spelling and input either Rock, Paper, or Scissors.\")\n",
    "\n",
    "    computer_choice = random.choice(choices)\n",
    "\n",
    "    print(f\"{player_name} chose: {player_choice}\")\n",
    "    print(f\"Computer chose: {computer_choice}\")\n",
    "\n",
    "    if player_choice == computer_choice:\n",
    "        print(\"It's a draw!\")\n",
    "    elif (player_choice == \"Rock\" and computer_choice == \"Scissors\") or \\\n",
    "         (player_choice == \"Scissors\" and computer_choice == \"Paper\") or \\\n",
    "         (player_choice == \"Paper\" and computer_choice == \"Rock\"):\n",
    "        print(f\"{player_name} wins!\")\n",
    "    else:\n",
    "        print(\"Computer wins!\")\n",
    "\n",
    "play_game()\n"
   ]
  },
  {
   "cell_type": "code",
   "execution_count": null,
   "id": "fb1019d7-70b9-4336-b413-0c0661ec3266",
   "metadata": {},
   "outputs": [],
   "source": []
  }
 ],
 "metadata": {
  "kernelspec": {
   "display_name": "Python 3 (ipykernel)",
   "language": "python",
   "name": "python3"
  },
  "language_info": {
   "codemirror_mode": {
    "name": "ipython",
    "version": 3
   },
   "file_extension": ".py",
   "mimetype": "text/x-python",
   "name": "python",
   "nbconvert_exporter": "python",
   "pygments_lexer": "ipython3",
   "version": "3.12.4"
  }
 },
 "nbformat": 4,
 "nbformat_minor": 5
}
