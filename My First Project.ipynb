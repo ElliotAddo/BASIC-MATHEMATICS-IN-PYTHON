{
 "cells": [
  {
   "cell_type": "markdown",
   "id": "1a4f7a68-4f09-4acd-a8b3-26163ff37517",
   "metadata": {},
   "source": [
    "### **SOME BASIC MATHEMATICS PROBLEMS IN PYTHON**"
   ]
  },
  {
   "cell_type": "markdown",
   "id": "3c9ec2f1-d822-44af-b14f-e436d054156e",
   "metadata": {},
   "source": [
    "### Even and odd numbers specification"
   ]
  },
  {
   "cell_type": "code",
   "execution_count": 2,
   "id": "bae58bba-880d-4428-bae9-3e0d23fd9c55",
   "metadata": {},
   "outputs": [
    {
     "name": "stdin",
     "output_type": "stream",
     "text": [
      "Enter number of choice =  -6\n"
     ]
    },
    {
     "name": "stdout",
     "output_type": "stream",
     "text": [
      "Your number is a negative number\n"
     ]
    }
   ],
   "source": [
    " n  = int(input(\"Enter number of choice = \"))\n",
    "if n < 0:\n",
    "    print(\"Your number is an negative number\")\n",
    "elif n % 2 > 0:\n",
    "    print(\"Your number is a odd number\")\n",
    "else:\n",
    "    print(\"Your number is an even number\")    \n"
   ]
  },
  {
   "cell_type": "markdown",
   "id": "47d3b79c-3eaf-4ca6-a4da-66353795d9b8",
   "metadata": {},
   "source": [
    "### Checking for type of number"
   ]
  },
  {
   "cell_type": "code",
   "execution_count": null,
   "id": "bd862f19-7e5a-42ae-8b9e-d22e2dd51103",
   "metadata": {},
   "outputs": [],
   "source": [
    " n = float(input(\"Enter your number : \"))\n",
    "if n > 0:\n",
    "    print(\"Your number is a postive number\")\n",
    "elif n==0: \n",
    "     print(\"Your number is 0\")\n",
    "else:\n",
    "     print(\"Your number is a negative number\")\n",
    "    "
   ]
  },
  {
   "cell_type": "markdown",
   "id": "0101be5a-ff16-4987-a952-e035249d793a",
   "metadata": {},
   "source": [
    "### Factorial of a number\n"
   ]
  },
  {
   "cell_type": "code",
   "execution_count": 4,
   "id": "59513569-ad3c-425d-b1aa-34860039d257",
   "metadata": {},
   "outputs": [
    {
     "name": "stdin",
     "output_type": "stream",
     "text": [
      "Enter number of choice:  25\n"
     ]
    },
    {
     "name": "stdout",
     "output_type": "stream",
     "text": [
      "The factorial is 15511210043330985984000000\n"
     ]
    }
   ],
   "source": [
    "fat=1\n",
    "n = int(input(\"Enter number of choice: \"))\n",
    "if n < 0:\n",
    "    print(\"Factorial doesnt't exist\")\n",
    "elif n==0: \n",
    "    print(\"Factorial is one\")\n",
    "else: \n",
    "    for i in range(1, n+1):\n",
    "        fat = fat*i\n",
    "    print(\"The factorial is\", fat)"
   ]
  },
  {
   "cell_type": "code",
   "execution_count": null,
   "id": "dcdbbd8c-2f90-4cba-af8e-28df6c6981a8",
   "metadata": {},
   "outputs": [],
   "source": []
  }
 ],
 "metadata": {
  "kernelspec": {
   "display_name": "Python 3 (ipykernel)",
   "language": "python",
   "name": "python3"
  },
  "language_info": {
   "codemirror_mode": {
    "name": "ipython",
    "version": 3
   },
   "file_extension": ".py",
   "mimetype": "text/x-python",
   "name": "python",
   "nbconvert_exporter": "python",
   "pygments_lexer": "ipython3",
   "version": "3.12.4"
  }
 },
 "nbformat": 4,
 "nbformat_minor": 5
}
